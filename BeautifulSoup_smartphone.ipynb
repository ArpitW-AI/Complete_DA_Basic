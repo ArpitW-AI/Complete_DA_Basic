{
 "cells": [
  {
   "cell_type": "code",
   "execution_count": 1,
   "id": "3b0be05e-5795-4c33-907d-35c03fa3f422",
   "metadata": {},
   "outputs": [],
   "source": [
    "import pandas as pd\n",
    "import numpy as np\n",
    "from bs4 import BeautifulSoup"
   ]
  },
  {
   "cell_type": "code",
   "execution_count": 2,
   "id": "060819ce-7059-4aaf-9b3b-3416f7b51056",
   "metadata": {},
   "outputs": [],
   "source": [
    "with open('smartprix.html','r',encoding='utf-8')as f:\n",
    "    html=f.read()"
   ]
  },
  {
   "cell_type": "code",
   "execution_count": 3,
   "id": "1439615a-4511-4efb-85d5-a32b9aa15024",
   "metadata": {},
   "outputs": [],
   "source": [
    "soup=BeautifulSoup(html, 'lxml')"
   ]
  },
  {
   "cell_type": "code",
   "execution_count": 4,
   "id": "5165db35-d65e-48cb-a48a-2a2d87446419",
   "metadata": {},
   "outputs": [],
   "source": [
    "container=soup.find_all('div',{'class' :\"sm-product has-tag has-features has-actions\"})"
   ]
  },
  {
   "cell_type": "code",
   "execution_count": 5,
   "id": "62f16148-9d7b-4695-b1c9-64f9aafccef8",
   "metadata": {},
   "outputs": [
    {
     "data": {
      "text/plain": [
       "843"
      ]
     },
     "execution_count": 5,
     "metadata": {},
     "output_type": "execute_result"
    }
   ],
   "source": [
    "len(container)"
   ]
  },
  {
   "cell_type": "code",
   "execution_count": 6,
   "id": "de397528-939d-4a31-82fa-c5cc54c77d78",
   "metadata": {},
   "outputs": [],
   "source": [
    "name=[]\n",
    "rating=[]\n",
    "price=[]\n",
    "sim=[]\n",
    "processor=[]\n",
    "ram=[]\n",
    "battery=[]\n",
    "display=[]\n",
    "camera=[]\n",
    "card=[]\n",
    "os=[]\n"
   ]
  },
  {
   "cell_type": "code",
   "execution_count": 7,
   "id": "a8229052-742e-477b-88b6-552ba0f6a1e2",
   "metadata": {},
   "outputs": [],
   "source": [
    "\n",
    "for i in container:\n",
    "    try:\n",
    "        name.append(i.find('h2').text)\n",
    "    except:\n",
    "        name.append(np.nan)\n",
    "        \n",
    "    try:\n",
    "        rating.append(i.find('div', {'class' :\"score rank-1-bg\"}).find('b').text)\n",
    "    except:\n",
    "        rating.append(i.find('div', {'class' :\"score rank-2-bg\"}).find('b').text)\n",
    "\n",
    "    try:\n",
    "        price.append(i.find('span',{'class':'price'}).text)\n",
    "    except:\n",
    "        price.append(np.nan)\n",
    "\n",
    "    x=i.find('ul', {'class': \"sm-feat specs\"}).find_all('li')\n",
    "\n",
    "    try:\n",
    "        sim.append(x[0].text)\n",
    "    except:\n",
    "        sim.append(np.nan)\n",
    "\n",
    "    try:\n",
    "        processor.append(x[1].text)\n",
    "    except:\n",
    "        processor.append(np.nan)\n",
    "\n",
    "    try:\n",
    "        ram.append(x[2].text)\n",
    "    except:\n",
    "        ram.append(np.nan)\n",
    "\n",
    "    try:\n",
    "        battery.append(x[3].text)\n",
    "    except:\n",
    "        battery.append(np.nan)\n",
    "\n",
    "    try:\n",
    "        display.append(x[4].text)\n",
    "    except:\n",
    "        display.append(np.nan)\n",
    "\n",
    "    try:\n",
    "        camera.append(x[5].text)\n",
    "    except:\n",
    "        camera.append(np.nan)\n",
    "        \n",
    "        \n",
    "    if (x[6].text).startswith('M'):\n",
    "        try:\n",
    "            card.append(x[6].text)\n",
    "        except:\n",
    "            card.append(np.nan)\n",
    "    else:\n",
    "        card.append(np.nan)\n",
    "        \n",
    "\n",
    "    if (x[7].text).startswith('A'):  \n",
    "        try:\n",
    "            os.append(x[7].text)\n",
    "        except:\n",
    "            os.append(np.nan)\n",
    "    else:\n",
    "        try:\n",
    "            os.append(x[6].text)\n",
    "        except:\n",
    "            os.append(np.nan)\n",
    "    "
   ]
  },
  {
   "cell_type": "code",
   "execution_count": 8,
   "id": "5e21b1af-2d84-4603-966d-04b68eb909ca",
   "metadata": {},
   "outputs": [
    {
     "data": {
      "text/plain": [
       "(843, 843, 843, 843, 843, 843, 843, 843, 843, 843, 843)"
      ]
     },
     "execution_count": 8,
     "metadata": {},
     "output_type": "execute_result"
    }
   ],
   "source": [
    "len(rating), len(name), len(price), len(sim), len(processor), len(ram), len(battery), len(display), len(camera), len(card), len(os)"
   ]
  },
  {
   "cell_type": "code",
   "execution_count": 9,
   "id": "707bd299-944b-4566-9c98-56c510ce7da0",
   "metadata": {},
   "outputs": [],
   "source": [
    "df=pd.DataFrame({'name':name,\n",
    "             'rating':rating,\n",
    "             'price':price,\n",
    "             'sim':sim,\n",
    "             'processor':processor,\n",
    "             'ram':ram,\n",
    "              'battert':battery,\n",
    "              'display':display,\n",
    "              'camera':camera,\n",
    "              'card':card,\n",
    "              'os':os\n",
    "             })"
   ]
  },
  {
   "cell_type": "code",
   "execution_count": 10,
   "id": "624923a3-7900-4e7e-aea8-4dfadceef58c",
   "metadata": {},
   "outputs": [
    {
     "data": {
      "text/html": [
       "<div>\n",
       "<style scoped>\n",
       "    .dataframe tbody tr th:only-of-type {\n",
       "        vertical-align: middle;\n",
       "    }\n",
       "\n",
       "    .dataframe tbody tr th {\n",
       "        vertical-align: top;\n",
       "    }\n",
       "\n",
       "    .dataframe thead th {\n",
       "        text-align: right;\n",
       "    }\n",
       "</style>\n",
       "<table border=\"1\" class=\"dataframe\">\n",
       "  <thead>\n",
       "    <tr style=\"text-align: right;\">\n",
       "      <th></th>\n",
       "      <th>name</th>\n",
       "      <th>rating</th>\n",
       "      <th>price</th>\n",
       "      <th>sim</th>\n",
       "      <th>processor</th>\n",
       "      <th>ram</th>\n",
       "      <th>battert</th>\n",
       "      <th>display</th>\n",
       "      <th>camera</th>\n",
       "      <th>card</th>\n",
       "      <th>os</th>\n",
       "    </tr>\n",
       "  </thead>\n",
       "  <tbody>\n",
       "    <tr>\n",
       "      <th>0</th>\n",
       "      <td>OPPO Reno 14 Pro 5G</td>\n",
       "      <td>90</td>\n",
       "      <td>₹49,999</td>\n",
       "      <td>Dual Sim, 3G, 4G, 5G, VoLTE, Wi-Fi, NFC, IR Bl...</td>\n",
       "      <td>Dimensity 8450, Octa Core, 3.25 GHz Processor</td>\n",
       "      <td>12 GB RAM, 256 GB inbuilt</td>\n",
       "      <td>6200 mAh Battery with 80W Fast Charging</td>\n",
       "      <td>6.83 inches, 1272 x 2800 px, 120 Hz Display wi...</td>\n",
       "      <td>50 MP + 50 MP + 50 MP Triple Rear &amp; 50 MP Fron...</td>\n",
       "      <td>NaN</td>\n",
       "      <td>Android v15</td>\n",
       "    </tr>\n",
       "    <tr>\n",
       "      <th>1</th>\n",
       "      <td>Ai+ Nova 5G</td>\n",
       "      <td>67</td>\n",
       "      <td>₹7,999</td>\n",
       "      <td>Dual Sim, 3G, 4G, 5G, VoLTE, Wi-Fi</td>\n",
       "      <td>Unisoc T8200, Octa Core Processor</td>\n",
       "      <td>6 GB RAM, 128 GB inbuilt</td>\n",
       "      <td>5000 mAh Battery with 18W Fast Charging</td>\n",
       "      <td>6.75 inches, 720 x 1600 px, 120 Hz Display wit...</td>\n",
       "      <td>50 MP Dual Rear &amp; 5 MP Front Camera</td>\n",
       "      <td>Memory Card Supported, upto 1 TB</td>\n",
       "      <td>Android v15</td>\n",
       "    </tr>\n",
       "    <tr>\n",
       "      <th>2</th>\n",
       "      <td>OPPO Reno 14 5G</td>\n",
       "      <td>88</td>\n",
       "      <td>₹37,999</td>\n",
       "      <td>Dual Sim, 3G, 4G, 5G, VoLTE, Wi-Fi, NFC, IR Bl...</td>\n",
       "      <td>Dimensity 8350, Octa Core, 3.35 GHz Processor</td>\n",
       "      <td>8 GB RAM, 256 GB inbuilt</td>\n",
       "      <td>6000 mAh Battery with 80W Fast Charging</td>\n",
       "      <td>6.59 inches, 1256 x 2760 px, 120 Hz Display wi...</td>\n",
       "      <td>50 MP + 50 MP + 8 MP Triple Rear &amp; 50 MP Front...</td>\n",
       "      <td>NaN</td>\n",
       "      <td>Android v15</td>\n",
       "    </tr>\n",
       "    <tr>\n",
       "      <th>3</th>\n",
       "      <td>OnePlus Nord CE 5 5G</td>\n",
       "      <td>82</td>\n",
       "      <td>₹24,999</td>\n",
       "      <td>Dual Sim, 3G, 4G, 5G, VoLTE, Wi-Fi, IR Blaster</td>\n",
       "      <td>Dimensity 8350 Apex, Octa Core, 3.35 GHz Proce...</td>\n",
       "      <td>8 GB RAM, 128 GB inbuilt</td>\n",
       "      <td>7100 mAh Battery with 80W Fast Charging</td>\n",
       "      <td>6.77 inches, 1080 x 2392 px, 120 Hz Display wi...</td>\n",
       "      <td>50 MP + 8 MP Dual Rear &amp; 16 MP Front Camera</td>\n",
       "      <td>Memory Card (Hybrid), upto 1 TB</td>\n",
       "      <td>Android v15</td>\n",
       "    </tr>\n",
       "    <tr>\n",
       "      <th>4</th>\n",
       "      <td>OPPO Reno 14 Pro 5G (12GB RAM + 512GB)</td>\n",
       "      <td>91</td>\n",
       "      <td>₹54,999</td>\n",
       "      <td>Dual Sim, 3G, 4G, 5G, VoLTE, Wi-Fi, NFC, IR Bl...</td>\n",
       "      <td>Dimensity 8450, Octa Core, 3.25 GHz Processor</td>\n",
       "      <td>12 GB RAM, 512 GB inbuilt</td>\n",
       "      <td>6200 mAh Battery with 80W Fast Charging</td>\n",
       "      <td>6.83 inches, 1272 x 2800 px, 120 Hz Display wi...</td>\n",
       "      <td>50 MP + 50 MP + 50 MP Triple Rear &amp; 50 MP Fron...</td>\n",
       "      <td>NaN</td>\n",
       "      <td>Android v15</td>\n",
       "    </tr>\n",
       "  </tbody>\n",
       "</table>\n",
       "</div>"
      ],
      "text/plain": [
       "                                     name rating    price  \\\n",
       "0                     OPPO Reno 14 Pro 5G     90  ₹49,999   \n",
       "1                             Ai+ Nova 5G     67   ₹7,999   \n",
       "2                         OPPO Reno 14 5G     88  ₹37,999   \n",
       "3                    OnePlus Nord CE 5 5G     82  ₹24,999   \n",
       "4  OPPO Reno 14 Pro 5G (12GB RAM + 512GB)     91  ₹54,999   \n",
       "\n",
       "                                                 sim  \\\n",
       "0  Dual Sim, 3G, 4G, 5G, VoLTE, Wi-Fi, NFC, IR Bl...   \n",
       "1                 Dual Sim, 3G, 4G, 5G, VoLTE, Wi-Fi   \n",
       "2  Dual Sim, 3G, 4G, 5G, VoLTE, Wi-Fi, NFC, IR Bl...   \n",
       "3     Dual Sim, 3G, 4G, 5G, VoLTE, Wi-Fi, IR Blaster   \n",
       "4  Dual Sim, 3G, 4G, 5G, VoLTE, Wi-Fi, NFC, IR Bl...   \n",
       "\n",
       "                                           processor  \\\n",
       "0      Dimensity 8450, Octa Core, 3.25 GHz Processor   \n",
       "1                  Unisoc T8200, Octa Core Processor   \n",
       "2      Dimensity 8350, Octa Core, 3.35 GHz Processor   \n",
       "3  Dimensity 8350 Apex, Octa Core, 3.35 GHz Proce...   \n",
       "4      Dimensity 8450, Octa Core, 3.25 GHz Processor   \n",
       "\n",
       "                         ram                                  battert  \\\n",
       "0  12 GB RAM, 256 GB inbuilt  6200 mAh Battery with 80W Fast Charging   \n",
       "1   6 GB RAM, 128 GB inbuilt  5000 mAh Battery with 18W Fast Charging   \n",
       "2   8 GB RAM, 256 GB inbuilt  6000 mAh Battery with 80W Fast Charging   \n",
       "3   8 GB RAM, 128 GB inbuilt  7100 mAh Battery with 80W Fast Charging   \n",
       "4  12 GB RAM, 512 GB inbuilt  6200 mAh Battery with 80W Fast Charging   \n",
       "\n",
       "                                             display  \\\n",
       "0  6.83 inches, 1272 x 2800 px, 120 Hz Display wi...   \n",
       "1  6.75 inches, 720 x 1600 px, 120 Hz Display wit...   \n",
       "2  6.59 inches, 1256 x 2760 px, 120 Hz Display wi...   \n",
       "3  6.77 inches, 1080 x 2392 px, 120 Hz Display wi...   \n",
       "4  6.83 inches, 1272 x 2800 px, 120 Hz Display wi...   \n",
       "\n",
       "                                              camera  \\\n",
       "0  50 MP + 50 MP + 50 MP Triple Rear & 50 MP Fron...   \n",
       "1                50 MP Dual Rear & 5 MP Front Camera   \n",
       "2  50 MP + 50 MP + 8 MP Triple Rear & 50 MP Front...   \n",
       "3        50 MP + 8 MP Dual Rear & 16 MP Front Camera   \n",
       "4  50 MP + 50 MP + 50 MP Triple Rear & 50 MP Fron...   \n",
       "\n",
       "                               card           os  \n",
       "0                               NaN  Android v15  \n",
       "1  Memory Card Supported, upto 1 TB  Android v15  \n",
       "2                               NaN  Android v15  \n",
       "3   Memory Card (Hybrid), upto 1 TB  Android v15  \n",
       "4                               NaN  Android v15  "
      ]
     },
     "execution_count": 10,
     "metadata": {},
     "output_type": "execute_result"
    }
   ],
   "source": [
    "df.head()"
   ]
  },
  {
   "cell_type": "code",
   "execution_count": 11,
   "id": "23272356-c19f-4080-9da1-98ccec440c95",
   "metadata": {},
   "outputs": [
    {
     "name": "stdout",
     "output_type": "stream",
     "text": [
      "<class 'pandas.core.frame.DataFrame'>\n",
      "RangeIndex: 843 entries, 0 to 842\n",
      "Data columns (total 11 columns):\n",
      " #   Column     Non-Null Count  Dtype \n",
      "---  ------     --------------  ----- \n",
      " 0   name       843 non-null    object\n",
      " 1   rating     843 non-null    object\n",
      " 2   price      843 non-null    object\n",
      " 3   sim        843 non-null    object\n",
      " 4   processor  843 non-null    object\n",
      " 5   ram        843 non-null    object\n",
      " 6   battert    843 non-null    object\n",
      " 7   display    843 non-null    object\n",
      " 8   camera     843 non-null    object\n",
      " 9   card       555 non-null    object\n",
      " 10  os         843 non-null    object\n",
      "dtypes: object(11)\n",
      "memory usage: 72.6+ KB\n"
     ]
    }
   ],
   "source": [
    "df.info()"
   ]
  },
  {
   "cell_type": "code",
   "execution_count": 12,
   "id": "17713bf7-dbc5-416c-91f7-3bdef792e75a",
   "metadata": {},
   "outputs": [],
   "source": [
    "new=df['price'].str.strip('₹')"
   ]
  },
  {
   "cell_type": "code",
   "execution_count": 13,
   "id": "e44847b7-814b-4adb-a23a-c4ded0464adf",
   "metadata": {},
   "outputs": [
    {
     "data": {
      "text/plain": [
       "0      [49, 999]\n",
       "1       [7, 999]\n",
       "2      [37, 999]\n",
       "3      [24, 999]\n",
       "4      [54, 999]\n",
       "         ...    \n",
       "838    [22, 990]\n",
       "839    [64, 900]\n",
       "840    [27, 990]\n",
       "841    [99, 900]\n",
       "842    [10, 999]\n",
       "Name: price, Length: 843, dtype: object"
      ]
     },
     "execution_count": 13,
     "metadata": {},
     "output_type": "execute_result"
    }
   ],
   "source": [
    "new.str.split(',')"
   ]
  },
  {
   "cell_type": "code",
   "execution_count": 14,
   "id": "fb9a2f61-c164-4cd0-8eb7-c890feb9b8a6",
   "metadata": {},
   "outputs": [],
   "source": [
    "df.to_excel('smartphone.xlsx' , index=False)"
   ]
  },
  {
   "cell_type": "code",
   "execution_count": 30,
   "id": "b8df4426-f3bf-432b-a114-3c34bcfa6e73",
   "metadata": {},
   "outputs": [],
   "source": [
    "df.to_csv('smartphone.csv', index=False)"
   ]
  },
  {
   "cell_type": "code",
   "execution_count": null,
   "id": "630adf43-5a45-4c19-9096-4500370b4c7b",
   "metadata": {},
   "outputs": [],
   "source": []
  }
 ],
 "metadata": {
  "kernelspec": {
   "display_name": "Python 3 (ipykernel)",
   "language": "python",
   "name": "python3"
  },
  "language_info": {
   "codemirror_mode": {
    "name": "ipython",
    "version": 3
   },
   "file_extension": ".py",
   "mimetype": "text/x-python",
   "name": "python",
   "nbconvert_exporter": "python",
   "pygments_lexer": "ipython3",
   "version": "3.12.9"
  }
 },
 "nbformat": 4,
 "nbformat_minor": 5
}
